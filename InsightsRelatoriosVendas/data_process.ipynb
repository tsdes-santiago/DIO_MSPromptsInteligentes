{
 "cells": [
  {
   "cell_type": "markdown",
   "metadata": {},
   "source": [
    "# Analisando dados com pandas"
   ]
  },
  {
   "cell_type": "code",
   "execution_count": 1,
   "metadata": {},
   "outputs": [],
   "source": [
    "import os\n",
    "import pandas as pd"
   ]
  },
  {
   "cell_type": "code",
   "execution_count": 2,
   "metadata": {},
   "outputs": [
    {
     "name": "stdout",
     "output_type": "stream",
     "text": [
      "Meganium_Sales_Data_-_Shopee.csv\n",
      "Meganium_Sales_Data_-_AliExpress.csv\n",
      "Meganium_Sales_Data_-_Etsy.csv\n"
     ]
    }
   ],
   "source": [
    "# Importando os dados\n",
    "data = []\n",
    "\n",
    "for file in os.listdir('./data'):\n",
    "    if file.endswith('.csv'):\n",
    "        data.append(pd.read_csv('./data/' + file))\n",
    "        print(file)\n"
   ]
  },
  {
   "cell_type": "code",
   "execution_count": 3,
   "metadata": {},
   "outputs": [],
   "source": [
    "# Combinando os dados em um único dataframe\n",
    "combined_data = pd.concat(data, ignore_index=True)"
   ]
  },
  {
   "cell_type": "code",
   "execution_count": 4,
   "metadata": {},
   "outputs": [
    {
     "data": {
      "text/html": [
       "<div>\n",
       "<style scoped>\n",
       "    .dataframe tbody tr th:only-of-type {\n",
       "        vertical-align: middle;\n",
       "    }\n",
       "\n",
       "    .dataframe tbody tr th {\n",
       "        vertical-align: top;\n",
       "    }\n",
       "\n",
       "    .dataframe thead th {\n",
       "        text-align: right;\n",
       "    }\n",
       "</style>\n",
       "<table border=\"1\" class=\"dataframe\">\n",
       "  <thead>\n",
       "    <tr style=\"text-align: right;\">\n",
       "      <th></th>\n",
       "      <th>SKU</th>\n",
       "      <th>product_sold</th>\n",
       "      <th>date</th>\n",
       "      <th>quantity</th>\n",
       "      <th>unit_price</th>\n",
       "      <th>total_price</th>\n",
       "      <th>currency</th>\n",
       "      <th>site</th>\n",
       "      <th>discount_coupon</th>\n",
       "      <th>discount_value</th>\n",
       "      <th>buyer_birth_date</th>\n",
       "      <th>buyer_name</th>\n",
       "      <th>delivery_country</th>\n",
       "      <th>invoice_id</th>\n",
       "    </tr>\n",
       "  </thead>\n",
       "  <tbody>\n",
       "    <tr>\n",
       "      <th>0</th>\n",
       "      <td>SKU-40XXV01</td>\n",
       "      <td>NEW MEGANIUM RG 40XXV</td>\n",
       "      <td>2024-09-25</td>\n",
       "      <td>5</td>\n",
       "      <td>100</td>\n",
       "      <td>500</td>\n",
       "      <td>GBP</td>\n",
       "      <td>Shopee</td>\n",
       "      <td>COUPONudNFF</td>\n",
       "      <td>86.97</td>\n",
       "      <td>1977-01-11</td>\n",
       "      <td>Caitlin Hampton</td>\n",
       "      <td>Canada</td>\n",
       "      <td>c9004617-7380-4423-8308-61000d7476d6</td>\n",
       "    </tr>\n",
       "    <tr>\n",
       "      <th>1</th>\n",
       "      <td>SKU-35XX01</td>\n",
       "      <td>NEW MEGANIUM RG35XX</td>\n",
       "      <td>2024-08-20</td>\n",
       "      <td>2</td>\n",
       "      <td>90</td>\n",
       "      <td>180</td>\n",
       "      <td>USD</td>\n",
       "      <td>Shopee</td>\n",
       "      <td>COUPONwKSYr</td>\n",
       "      <td>52.45</td>\n",
       "      <td>1985-04-18</td>\n",
       "      <td>Kristen Murphy</td>\n",
       "      <td>Canada</td>\n",
       "      <td>97963f60-5c5e-4a43-b82f-ac7b4af9b836</td>\n",
       "    </tr>\n",
       "    <tr>\n",
       "      <th>2</th>\n",
       "      <td>SKU-CUBEXX01</td>\n",
       "      <td>NEW MEGANIUM RG CubeXX</td>\n",
       "      <td>2024-10-30</td>\n",
       "      <td>5</td>\n",
       "      <td>80</td>\n",
       "      <td>400</td>\n",
       "      <td>EUR</td>\n",
       "      <td>Shopee</td>\n",
       "      <td>COUPONPomKJ</td>\n",
       "      <td>91.50</td>\n",
       "      <td>2000-05-11</td>\n",
       "      <td>Emily Caldwell</td>\n",
       "      <td>France</td>\n",
       "      <td>0ad4ad4c-8340-4049-9f12-7e9c7b31d0ba</td>\n",
       "    </tr>\n",
       "    <tr>\n",
       "      <th>3</th>\n",
       "      <td>SKU-40XXV01</td>\n",
       "      <td>NEW MEGANIUM RG 40XXV</td>\n",
       "      <td>2024-09-29</td>\n",
       "      <td>2</td>\n",
       "      <td>100</td>\n",
       "      <td>200</td>\n",
       "      <td>USD</td>\n",
       "      <td>Shopee</td>\n",
       "      <td>COUPONFMOPN</td>\n",
       "      <td>38.84</td>\n",
       "      <td>1973-12-20</td>\n",
       "      <td>Elizabeth Adams</td>\n",
       "      <td>Japan</td>\n",
       "      <td>e56075d8-7299-493a-bb4d-000159e2c2ed</td>\n",
       "    </tr>\n",
       "    <tr>\n",
       "      <th>4</th>\n",
       "      <td>SKU-353M01</td>\n",
       "      <td>MEGANIUM RG353M</td>\n",
       "      <td>2024-09-11</td>\n",
       "      <td>1</td>\n",
       "      <td>110</td>\n",
       "      <td>110</td>\n",
       "      <td>GBP</td>\n",
       "      <td>Shopee</td>\n",
       "      <td>COUPONKlEUV</td>\n",
       "      <td>24.29</td>\n",
       "      <td>1976-05-19</td>\n",
       "      <td>Cheryl Newman</td>\n",
       "      <td>Japan</td>\n",
       "      <td>023f2324-7bcd-4839-b056-9ff3524574ea</td>\n",
       "    </tr>\n",
       "  </tbody>\n",
       "</table>\n",
       "</div>"
      ],
      "text/plain": [
       "            SKU            product_sold        date  quantity  unit_price  \\\n",
       "0   SKU-40XXV01   NEW MEGANIUM RG 40XXV  2024-09-25         5         100   \n",
       "1    SKU-35XX01     NEW MEGANIUM RG35XX  2024-08-20         2          90   \n",
       "2  SKU-CUBEXX01  NEW MEGANIUM RG CubeXX  2024-10-30         5          80   \n",
       "3   SKU-40XXV01   NEW MEGANIUM RG 40XXV  2024-09-29         2         100   \n",
       "4    SKU-353M01         MEGANIUM RG353M  2024-09-11         1         110   \n",
       "\n",
       "   total_price currency    site discount_coupon  discount_value  \\\n",
       "0          500      GBP  Shopee     COUPONudNFF           86.97   \n",
       "1          180      USD  Shopee     COUPONwKSYr           52.45   \n",
       "2          400      EUR  Shopee     COUPONPomKJ           91.50   \n",
       "3          200      USD  Shopee     COUPONFMOPN           38.84   \n",
       "4          110      GBP  Shopee     COUPONKlEUV           24.29   \n",
       "\n",
       "  buyer_birth_date       buyer_name delivery_country  \\\n",
       "0       1977-01-11  Caitlin Hampton           Canada   \n",
       "1       1985-04-18   Kristen Murphy           Canada   \n",
       "2       2000-05-11   Emily Caldwell           France   \n",
       "3       1973-12-20  Elizabeth Adams            Japan   \n",
       "4       1976-05-19    Cheryl Newman            Japan   \n",
       "\n",
       "                             invoice_id  \n",
       "0  c9004617-7380-4423-8308-61000d7476d6  \n",
       "1  97963f60-5c5e-4a43-b82f-ac7b4af9b836  \n",
       "2  0ad4ad4c-8340-4049-9f12-7e9c7b31d0ba  \n",
       "3  e56075d8-7299-493a-bb4d-000159e2c2ed  \n",
       "4  023f2324-7bcd-4839-b056-9ff3524574ea  "
      ]
     },
     "execution_count": 4,
     "metadata": {},
     "output_type": "execute_result"
    }
   ],
   "source": [
    "# Visualizando os dados\n",
    "combined_data.head()"
   ]
  },
  {
   "cell_type": "code",
   "execution_count": 5,
   "metadata": {},
   "outputs": [
    {
     "name": "stdout",
     "output_type": "stream",
     "text": [
      "<class 'pandas.core.frame.DataFrame'>\n",
      "RangeIndex: 60 entries, 0 to 59\n",
      "Data columns (total 14 columns):\n",
      " #   Column            Non-Null Count  Dtype  \n",
      "---  ------            --------------  -----  \n",
      " 0   SKU               60 non-null     object \n",
      " 1   product_sold      60 non-null     object \n",
      " 2   date              60 non-null     object \n",
      " 3   quantity          60 non-null     int64  \n",
      " 4   unit_price        60 non-null     int64  \n",
      " 5   total_price       60 non-null     int64  \n",
      " 6   currency          60 non-null     object \n",
      " 7   site              60 non-null     object \n",
      " 8   discount_coupon   60 non-null     object \n",
      " 9   discount_value    60 non-null     float64\n",
      " 10  buyer_birth_date  60 non-null     object \n",
      " 11  buyer_name        60 non-null     object \n",
      " 12  delivery_country  60 non-null     object \n",
      " 13  invoice_id        60 non-null     object \n",
      "dtypes: float64(1), int64(3), object(10)\n",
      "memory usage: 6.7+ KB\n"
     ]
    }
   ],
   "source": [
    "# Checando se há nulos\n",
    "combined_data.info()"
   ]
  },
  {
   "cell_type": "code",
   "execution_count": 6,
   "metadata": {},
   "outputs": [
    {
     "data": {
      "text/plain": [
       "site\n",
       "AliExpress    58\n",
       "Etsy          56\n",
       "Shopee        64\n",
       "Name: quantity, dtype: int64"
      ]
     },
     "execution_count": 6,
     "metadata": {},
     "output_type": "execute_result"
    }
   ],
   "source": [
    "# Quantidade de vendas por site\n",
    "combined_data.groupby(['site'])['quantity'].sum()"
   ]
  },
  {
   "cell_type": "code",
   "execution_count": 7,
   "metadata": {},
   "outputs": [],
   "source": [
    "# Removendo colunas desnecessárias parra análise\n",
    "combined_data = combined_data.drop(columns=['SKU', 'discount_coupon', 'buyer_name', 'invoice_id'])"
   ]
  },
  {
   "cell_type": "code",
   "execution_count": 8,
   "metadata": {},
   "outputs": [
    {
     "data": {
      "text/html": [
       "<div>\n",
       "<style scoped>\n",
       "    .dataframe tbody tr th:only-of-type {\n",
       "        vertical-align: middle;\n",
       "    }\n",
       "\n",
       "    .dataframe tbody tr th {\n",
       "        vertical-align: top;\n",
       "    }\n",
       "\n",
       "    .dataframe thead th {\n",
       "        text-align: right;\n",
       "    }\n",
       "</style>\n",
       "<table border=\"1\" class=\"dataframe\">\n",
       "  <thead>\n",
       "    <tr style=\"text-align: right;\">\n",
       "      <th></th>\n",
       "      <th>product_sold</th>\n",
       "      <th>date</th>\n",
       "      <th>quantity</th>\n",
       "      <th>unit_price</th>\n",
       "      <th>total_price</th>\n",
       "      <th>currency</th>\n",
       "      <th>site</th>\n",
       "      <th>discount_value</th>\n",
       "      <th>buyer_birth_date</th>\n",
       "      <th>delivery_country</th>\n",
       "    </tr>\n",
       "  </thead>\n",
       "  <tbody>\n",
       "    <tr>\n",
       "      <th>0</th>\n",
       "      <td>NEW MEGANIUM RG 40XXV</td>\n",
       "      <td>2024-09-25</td>\n",
       "      <td>5</td>\n",
       "      <td>100</td>\n",
       "      <td>500</td>\n",
       "      <td>GBP</td>\n",
       "      <td>Shopee</td>\n",
       "      <td>86.97</td>\n",
       "      <td>1977-01-11</td>\n",
       "      <td>Canada</td>\n",
       "    </tr>\n",
       "    <tr>\n",
       "      <th>1</th>\n",
       "      <td>NEW MEGANIUM RG35XX</td>\n",
       "      <td>2024-08-20</td>\n",
       "      <td>2</td>\n",
       "      <td>90</td>\n",
       "      <td>180</td>\n",
       "      <td>USD</td>\n",
       "      <td>Shopee</td>\n",
       "      <td>52.45</td>\n",
       "      <td>1985-04-18</td>\n",
       "      <td>Canada</td>\n",
       "    </tr>\n",
       "    <tr>\n",
       "      <th>2</th>\n",
       "      <td>NEW MEGANIUM RG CubeXX</td>\n",
       "      <td>2024-10-30</td>\n",
       "      <td>5</td>\n",
       "      <td>80</td>\n",
       "      <td>400</td>\n",
       "      <td>EUR</td>\n",
       "      <td>Shopee</td>\n",
       "      <td>91.50</td>\n",
       "      <td>2000-05-11</td>\n",
       "      <td>France</td>\n",
       "    </tr>\n",
       "    <tr>\n",
       "      <th>3</th>\n",
       "      <td>NEW MEGANIUM RG 40XXV</td>\n",
       "      <td>2024-09-29</td>\n",
       "      <td>2</td>\n",
       "      <td>100</td>\n",
       "      <td>200</td>\n",
       "      <td>USD</td>\n",
       "      <td>Shopee</td>\n",
       "      <td>38.84</td>\n",
       "      <td>1973-12-20</td>\n",
       "      <td>Japan</td>\n",
       "    </tr>\n",
       "    <tr>\n",
       "      <th>4</th>\n",
       "      <td>MEGANIUM RG353M</td>\n",
       "      <td>2024-09-11</td>\n",
       "      <td>1</td>\n",
       "      <td>110</td>\n",
       "      <td>110</td>\n",
       "      <td>GBP</td>\n",
       "      <td>Shopee</td>\n",
       "      <td>24.29</td>\n",
       "      <td>1976-05-19</td>\n",
       "      <td>Japan</td>\n",
       "    </tr>\n",
       "  </tbody>\n",
       "</table>\n",
       "</div>"
      ],
      "text/plain": [
       "             product_sold        date  quantity  unit_price  total_price  \\\n",
       "0   NEW MEGANIUM RG 40XXV  2024-09-25         5         100          500   \n",
       "1     NEW MEGANIUM RG35XX  2024-08-20         2          90          180   \n",
       "2  NEW MEGANIUM RG CubeXX  2024-10-30         5          80          400   \n",
       "3   NEW MEGANIUM RG 40XXV  2024-09-29         2         100          200   \n",
       "4         MEGANIUM RG353M  2024-09-11         1         110          110   \n",
       "\n",
       "  currency    site  discount_value buyer_birth_date delivery_country  \n",
       "0      GBP  Shopee           86.97       1977-01-11           Canada  \n",
       "1      USD  Shopee           52.45       1985-04-18           Canada  \n",
       "2      EUR  Shopee           91.50       2000-05-11           France  \n",
       "3      USD  Shopee           38.84       1973-12-20            Japan  \n",
       "4      GBP  Shopee           24.29       1976-05-19            Japan  "
      ]
     },
     "execution_count": 8,
     "metadata": {},
     "output_type": "execute_result"
    }
   ],
   "source": [
    "combined_data.head()"
   ]
  },
  {
   "cell_type": "code",
   "execution_count": 9,
   "metadata": {},
   "outputs": [],
   "source": [
    "# Convertendo data de string para datetime\n",
    "combined_data['date'] = pd.to_datetime(combined_data['date'])\n",
    "combined_data['buyer_birth_date'] = pd.to_datetime(combined_data['buyer_birth_date'])\n"
   ]
  },
  {
   "cell_type": "code",
   "execution_count": 10,
   "metadata": {},
   "outputs": [
    {
     "data": {
      "text/plain": [
       "product_sold\n",
       "MEGANIUM RG353M           29\n",
       "NEW MEGANIUM RG 40XXV     41\n",
       "NEW MEGANIUM RG CubeXX    36\n",
       "NEW MEGANIUM RG28XX       36\n",
       "NEW MEGANIUM RG35XX       36\n",
       "Name: quantity, dtype: int64"
      ]
     },
     "execution_count": 10,
     "metadata": {},
     "output_type": "execute_result"
    }
   ],
   "source": [
    "# Quantidade de Produtos vendidos\n",
    "combined_data.groupby(['product_sold'])['quantity'].sum()"
   ]
  },
  {
   "cell_type": "code",
   "execution_count": 11,
   "metadata": {},
   "outputs": [
    {
     "data": {
      "text/plain": [
       "product_sold            delivery_country\n",
       "MEGANIUM RG353M         Australia            5\n",
       "                        France               6\n",
       "                        Germany              3\n",
       "                        Japan                6\n",
       "                        UK                   5\n",
       "                        USA                  4\n",
       "NEW MEGANIUM RG 40XXV   Canada              19\n",
       "                        France               4\n",
       "                        Germany              7\n",
       "                        Japan               11\n",
       "NEW MEGANIUM RG CubeXX  Australia           13\n",
       "                        Canada               2\n",
       "                        France               9\n",
       "                        Germany              5\n",
       "                        Japan                5\n",
       "                        UK                   1\n",
       "                        USA                  1\n",
       "NEW MEGANIUM RG28XX     Australia            8\n",
       "                        Canada              11\n",
       "                        France               5\n",
       "                        Germany              7\n",
       "                        Japan                5\n",
       "NEW MEGANIUM RG35XX     Australia            2\n",
       "                        Canada              14\n",
       "                        France              12\n",
       "                        Germany              1\n",
       "                        UK                   7\n",
       "Name: quantity, dtype: int64"
      ]
     },
     "execution_count": 11,
     "metadata": {},
     "output_type": "execute_result"
    }
   ],
   "source": [
    "# Produtos vendidos por país\n",
    "combined_data.groupby(['product_sold', 'delivery_country'])['quantity'].sum()"
   ]
  },
  {
   "cell_type": "code",
   "execution_count": 12,
   "metadata": {},
   "outputs": [
    {
     "name": "stdout",
     "output_type": "stream",
     "text": [
      "<class 'pandas.core.frame.DataFrame'>\n",
      "RangeIndex: 60 entries, 0 to 59\n",
      "Data columns (total 10 columns):\n",
      " #   Column            Non-Null Count  Dtype         \n",
      "---  ------            --------------  -----         \n",
      " 0   product_sold      60 non-null     object        \n",
      " 1   date              60 non-null     datetime64[ns]\n",
      " 2   quantity          60 non-null     int64         \n",
      " 3   unit_price        60 non-null     int64         \n",
      " 4   total_price       60 non-null     int64         \n",
      " 5   currency          60 non-null     object        \n",
      " 6   site              60 non-null     object        \n",
      " 7   discount_value    60 non-null     float64       \n",
      " 8   buyer_birth_date  60 non-null     datetime64[ns]\n",
      " 9   delivery_country  60 non-null     object        \n",
      "dtypes: datetime64[ns](2), float64(1), int64(3), object(4)\n",
      "memory usage: 4.8+ KB\n"
     ]
    }
   ],
   "source": [
    "combined_data.info()"
   ]
  },
  {
   "cell_type": "code",
   "execution_count": 13,
   "metadata": {},
   "outputs": [],
   "source": [
    "# Calculando a idade dos compradores\n",
    "combined_data['buyer_age'] = combined_data['date'].dt.year - combined_data['buyer_birth_date'].dt.year"
   ]
  },
  {
   "cell_type": "code",
   "execution_count": 14,
   "metadata": {},
   "outputs": [
    {
     "data": {
      "text/plain": [
       "delivery_country\n",
       "Australia    44\n",
       "Canada       36\n",
       "France       43\n",
       "Germany      43\n",
       "Japan        44\n",
       "UK           44\n",
       "USA          38\n",
       "Name: buyer_age, dtype: int64"
      ]
     },
     "execution_count": 14,
     "metadata": {},
     "output_type": "execute_result"
    }
   ],
   "source": [
    "# Média de idade comprador por país\n",
    "combined_data.groupby(['delivery_country'])['buyer_age'].mean().round(0).astype(int)"
   ]
  },
  {
   "cell_type": "code",
   "execution_count": 15,
   "metadata": {},
   "outputs": [],
   "source": [
    "# Salvando csv\n",
    "combined_data.to_csv('processed_data.csv', index=False)"
   ]
  },
  {
   "cell_type": "markdown",
   "metadata": {},
   "source": [
    "# Insights usando o Google Gemini"
   ]
  },
  {
   "cell_type": "code",
   "execution_count": 16,
   "metadata": {},
   "outputs": [
    {
     "data": {
      "text/plain": [
       "True"
      ]
     },
     "execution_count": 16,
     "metadata": {},
     "output_type": "execute_result"
    }
   ],
   "source": [
    "# Carregar dotenv\n",
    "from dotenv import load_dotenv\n",
    "\n",
    "load_dotenv()"
   ]
  },
  {
   "cell_type": "code",
   "execution_count": 17,
   "metadata": {},
   "outputs": [],
   "source": [
    "GEMINI_KEY = os.getenv('GEMINI_KEY')"
   ]
  },
  {
   "cell_type": "code",
   "execution_count": 18,
   "metadata": {},
   "outputs": [],
   "source": [
    "import google.generativeai as genai\n",
    "\n",
    "genai.configure(api_key=GEMINI_KEY)"
   ]
  },
  {
   "cell_type": "code",
   "execution_count": 19,
   "metadata": {},
   "outputs": [
    {
     "name": "stdout",
     "output_type": "stream",
     "text": [
      "Aqui estão as respostas baseadas na sua tabela de vendas:\n",
      "\n",
      "**1. Os 3 produtos mais vendidos:**\n",
      "\n",
      "Para determinar os 3 produtos mais vendidos, precisamos somar a quantidade vendida de cada produto:\n",
      "\n",
      "* **NEW MEGANIUM RG 40XXV:** 22 unidades\n",
      "* **NEW MEGANIUM RG35XX:** 21 unidades\n",
      "* **NEW MEGANIUM RG CubeXX:** 20 unidades\n",
      "* **MEGANIUM RG353M:** 13 unidades\n",
      "* **NEW MEGANIUM RG28XX:** 19 unidades\n",
      "\n",
      "Portanto, os 3 produtos mais vendidos são:  **NEW MEGANIUM RG 40XXV**, **NEW MEGANIUM RG35XX**, e **NEW MEGANIUM RG28XX**.\n",
      "\n",
      "\n",
      "**2. Quantidade de produtos vendidos por site:**\n",
      "\n",
      "* **Shopee:** 20 produtos\n",
      "* **AliExpress:** 20 produtos\n",
      "* **Etsy:** 20 produtos\n",
      "\n",
      "\n",
      "**3. Produtos vendidos e quantidade de vendas por país:**\n",
      "\n",
      "Esta tabela mostra a quantidade de cada produto vendido em cada país:\n",
      "\n",
      "| Product_Sold           | Canada | France | Japan | Australia | Germany | UK | USA |\n",
      "|-----------------------|--------|--------|-------|------------|---------|----|-----|\n",
      "| NEW MEGANIUM RG 40XXV  | 6      | 0      | 3     | 0          | 0       | 0 | 0   |\n",
      "| NEW MEGANIUM RG35XX    | 2      | 5      | 1     | 1          | 0       | 1 | 1   |\n",
      "| NEW MEGANIUM RG CubeXX | 3      | 4      | 1     | 4          | 5       | 0 | 2  |\n",
      "| MEGANIUM RG353M        | 1      | 2      | 2     | 1          | 0       | 2 | 2   |\n",
      "| NEW MEGANIUM RG28XX    | 3      | 2      | 1     | 4          | 2       | 0 | 0   |\n",
      "\n",
      "\n",
      "**4. Média da idade dos compradores por país:**\n",
      "\n",
      "Para calcular a média da idade dos compradores por país, precisamos somar as idades de todos os compradores de um determinado país e dividir pelo número de compradores nesse país.\n",
      "\n",
      "* **Canada:** (47 + 39 + 51 + 47 + 29 + 43 + 27 + 38 + 31 + 48 + 36 + 19) / 12 ≈ 39.2 anos\n",
      "* **France:** (24 + 37 + 43 + 52 + 50 + 45 + 58 + 39 + 45 + 59 + 53) / 11 ≈ 44.5 anos\n",
      "* **Japan:** (51 + 48 + 42 + 47 + 44 + 51 + 53 + 41 + 40 + 44 + 55) / 11 ≈ 47.2 anos\n",
      "* **Australia:** (53 + 37 + 19 + 44 + 59 + 38 + 53 + 36 + 48 + 33 + 50 + 37 + 35) / 13 ≈ 42.8 anos\n",
      "* **Germany:** (50 + 38 + 53 + 36 + 46 + 53 + 45 + 35 + 33) / 9 ≈ 43.9 anos\n",
      "* **UK:** (43 + 47 + 57 + 40 + 33 + 47) / 6 ≈ 44.2 anos\n",
      "* **USA:** (43 + 39 + 35) / 3 ≈ 39.0 anos\n",
      "\n",
      "\n",
      "Observação:  Alguns valores foram arredondados.  A precisão pode ser aumentada com o uso de uma ferramenta de análise de dados mais robusta.\n",
      "\n"
     ]
    }
   ],
   "source": [
    "\n",
    "# This is a simple example; tailor it to your specific needs\n",
    "analysis_prompt = \"\"\"\n",
    "Analise o seguinte relatório de vendas:\n",
    "{}\n",
    "- Identifique os 3 produtos mais vendidos. \n",
    "- Retorne a quantidade de produtos vendidos por site.\n",
    "- Retorne uma tabela com produtos vendidos, quantidade de vendas por país.\n",
    "- Retorne a média da idade dos compradores  por país. \n",
    "\"\"\"\n",
    "\n",
    "# **4. Generate content using the Gemini API**\n",
    "model = genai.GenerativeModel('gemini-1.5-flash-latest') \n",
    "df_str = combined_data.to_markdown(index=False)  # Convert DataFrame to Markdown for better readability\n",
    "prompt = analysis_prompt.format(df_str) \n",
    "response = model.generate_content(prompt)\n",
    "\n",
    "# **5. Print the response**\n",
    "print(response.text)\n"
   ]
  },
  {
   "cell_type": "code",
   "execution_count": null,
   "metadata": {},
   "outputs": [],
   "source": []
  }
 ],
 "metadata": {
  "kernelspec": {
   "display_name": "env-DIO",
   "language": "python",
   "name": "env-dio"
  },
  "language_info": {
   "codemirror_mode": {
    "name": "ipython",
    "version": 3
   },
   "file_extension": ".py",
   "mimetype": "text/x-python",
   "name": "python",
   "nbconvert_exporter": "python",
   "pygments_lexer": "ipython3",
   "version": "3.13.1"
  }
 },
 "nbformat": 4,
 "nbformat_minor": 2
}
